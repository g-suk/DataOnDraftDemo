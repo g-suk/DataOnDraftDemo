{
 "metadata": {
  "language_info": {
   "name": "python"
  },
  "lastEditStatus": {
   "notebookId": "ivbeum53kvtkx4mbqqbj",
   "authorId": "2479036261444",
   "authorName": "GSUK",
   "authorEmail": "greg.suk@snowflake.com",
   "sessionId": "98564730-d323-4c20-ace9-dc3eba58d823",
   "lastEditTime": 1755612841952
  }
 },
 "nbformat_minor": 2,
 "nbformat": 4,
 "cells": [
  {
   "cell_type": "markdown",
   "id": "ce110000-1111-2222-3333-ffffff000000",
   "metadata": {
    "name": "cell1"
   },
   "source": [
    "# 🍺 Luce Line Beer Recommendation System\n",
    "\n",
    "This notebook scrapes beer data from Luce Line Brewing and loads it into Snowflake for analysis.\n",
    "\n",
    "**Prerequisites:**\n",
    "- Snowflake account with notebook features enabled\n",
    "- ACCOUNTADMIN privileges for external network setup\n",
    "- Access to create databases, schemas, and tables\n"
   ]
  },
  {
   "cell_type": "markdown",
   "id": "ce110000-1111-2222-3333-ffffff000001",
   "metadata": {
    "name": "cell2"
   },
   "source": [
    "## Step 1: External Network Access Setup\n"
   ]
  },
  {
   "cell_type": "code",
   "execution_count": null,
   "metadata": {
    "vscode": {
     "languageId": "sql"
    },
    "name": "cell3",
    "language": "sql"
   },
   "outputs": [],
   "source": "-- Set up external network access (requires ACCOUNTADMIN)\nUSE ROLE ACCOUNTADMIN;\n\n-- Create network rule and external access integration\nCREATE OR REPLACE NETWORK RULE beer_scraping_network_rule\n    MODE = EGRESS\n    TYPE = HOST_PORT\n    VALUE_LIST = ('lucelinebrewing.com', 'www.lucelinebrewing.com', 'www.lucelinebrewing.com:443');\n\nCREATE OR REPLACE EXTERNAL ACCESS INTEGRATION beer_scraping_access_integration\n    ALLOWED_NETWORK_RULES = (beer_scraping_network_rule)\n    ENABLED = true;\n\n-- Grant access to Snowflake Intelligence Admin role\nGRANT USAGE ON INTEGRATION beer_scraping_access_integration TO ROLE snowflake_intelligence_admin_rl;\nGRANT USAGE ON NETWORK RULE beer_scraping_network_rule TO ROLE snowflake_intelligence_admin_rl;\n\n-- Switch back to working role\nUSE ROLE snowflake_intelligence_admin_rl;\n",
   "id": "ce110000-1111-2222-3333-ffffff000002"
  },
  {
   "cell_type": "markdown",
   "id": "ce110000-1111-2222-3333-ffffff000003",
   "metadata": {
    "name": "cell4"
   },
   "source": [
    "## Step 2: Package Setup & Database\n"
   ]
  },
  {
   "cell_type": "code",
   "execution_count": null,
   "metadata": {
    "name": "cell5",
    "language": "python"
   },
   "outputs": [],
   "source": [
    "# Import packages and setup session\n",
    "import snowflake.snowpark as snowpark\n",
    "from snowflake.snowpark import Session\n",
    "from snowflake.snowpark.functions import col, lit, current_timestamp\n",
    "import pandas as pd\n",
    "import json\n",
    "from datetime import datetime\n",
    "import re\n",
    "from html.parser import HTMLParser\n",
    "\n",
    "# Get current session\n",
    "session = snowpark.context.get_active_session()\n",
    "\n",
    "# Try to import web scraping packages\n",
    "try:\n",
    "    import requests\n",
    "    print(\"✅ requests available\")\n",
    "    REQUESTS_AVAILABLE = True\n",
    "except ImportError:\n",
    "    print(\"❌ requests not available\")\n",
    "    REQUESTS_AVAILABLE = False\n",
    "\n",
    "try:\n",
    "    from bs4 import BeautifulSoup\n",
    "    print(\"✅ beautifulsoup4 available\")\n",
    "    BEAUTIFULSOUP_AVAILABLE = True\n",
    "except ImportError:\n",
    "    print(\"❌ beautifulsoup4 not available - will use fallback parser\")\n",
    "    BEAUTIFULSOUP_AVAILABLE = False\n",
    "\n",
    "print(\"📦 Package setup complete\")\n"
   ],
   "id": "ce110000-1111-2222-3333-ffffff000004"
  },
  {
   "cell_type": "markdown",
   "id": "ce110000-1111-2222-3333-ffffff000006",
   "metadata": {
    "name": "cell7",
    "collapsed": false
   },
   "source": "## Step 3: Create Web Scraping Stored Procedure\n"
  },
  {
   "cell_type": "code",
   "execution_count": null,
   "metadata": {
    "name": "cell8",
    "language": "python"
   },
   "outputs": [],
   "source": "# Import the required function\nfrom snowflake.snowpark.functions import expr\n\ncreate_sp_sql = \"\"\"\nCREATE OR REPLACE PROCEDURE scrape_luce_line_data()\nRETURNS STRING\nLANGUAGE PYTHON\nRUNTIME_VERSION = '3.10'\nPACKAGES = ('requests', 'beautifulsoup4', 'snowflake-snowpark-python')\nEXTERNAL_ACCESS_INTEGRATIONS = (beer_scraping_access_integration)\nHANDLER = 'main'\nAS \n$$\nimport requests\nfrom bs4 import BeautifulSoup\nimport re\nimport json\n\ndef clean_text(text):\n    if not text:\n        return \"\"\n    # Remove extra whitespace and normalize\n    text = ' '.join(text.split())\n    return text.strip()\n\ndef extract_abv(text):\n    if not text:\n        return None\n    # Look for ABV patterns like \"7.4%\" or \"7.4 %\"\n    match = re.search(r'(\\d+(?:\\.\\d+)?)\\s*%', text)\n    if match:\n        return float(match.group(1))\n    return None\n\ndef parse_beer_section(section_text):\n    lines = [line.strip() for line in section_text.split('\\\\n') if line.strip()]\n    beer_data = None\n    \n    for i, line in enumerate(lines):\n        # Look for lines containing ABV\n        if '%' in line and extract_abv(line) is not None:\n            # Previous line is likely the beer name\n            if i > 0:\n                beer_name = clean_text(lines[i-1])\n                # Extract style and ABV\n                style_abv = line.split('|')\n                if len(style_abv) == 2:\n                    style = clean_text(style_abv[0])\n                    abv = extract_abv(style_abv[1])\n                    \n                    # Get description from following lines\n                    description = []\n                    j = i + 1\n                    while j < len(lines):\n                        next_line = lines[j]\n                        # Stop if we hit another beer entry or social media links\n                        if ('%' in next_line and '|' in next_line) or \\\n                           any(x in next_line.lower() for x in ['untappd', 'facebook', 'instagram']):\n                            break\n                        description.append(next_line)\n                        j += 1\n                    \n                    # If no description found, look before the beer name\n                    if not description and i > 1:\n                        prev_line = lines[i-2]\n                        if '%' not in prev_line and '|' not in prev_line:\n                            description = [prev_line]\n                    \n                    beer_data = {\n                        'beer_name': beer_name,\n                        'style': style,\n                        'abv': abv,\n                        'description': ' '.join(description),\n                        'brewery': 'Luce Line Brewing Co.',\n                        'brewery_city': 'Plymouth',\n                        'brewery_state': 'MN'\n                    }\n                    break\n    \n    return beer_data\n\ndef main(session):\n    try:\n        url = 'https://lucelinebrewing.com/tap-list/'\n        headers = {\n            'User-Agent': 'Mozilla/5.0 (Windows NT 10.0; Win64; x64) AppleWebKit/537.36'\n        }\n        \n        response = requests.get(url, headers=headers, timeout=30)\n        response.raise_for_status()\n        \n        soup = BeautifulSoup(response.text, 'html.parser')\n        beers = []\n        \n        # Find all potential beer sections\n        beer_sections = soup.find_all(['div', 'p'])\n        \n        for section in beer_sections:\n            text = section.get_text('\\\\n')\n            if '%' in text and '|' in text:  # Likely a beer section\n                beer_data = parse_beer_section(text)\n                if beer_data and not any(b['beer_name'] == beer_data['beer_name'] for b in beers):\n                    beers.append(beer_data)\n        \n        # Additional parsing for any missed beers\n        full_text = soup.get_text('\\\\n')\n        sections = re.split(r'\\\\n{2,}', full_text)\n        \n        for section in sections:\n            if '%' in section and '|' in section:\n                beer_data = parse_beer_section(section)\n                if beer_data and not any(b['beer_name'] == beer_data['beer_name'] for b in beers):\n                    beers.append(beer_data)\n        \n        # Return results or fallback\n        if len(beers) >= 10:\n            return json.dumps(beers)\n        else:\n            raise Exception(\"Failed to scrape enough beers\")\n            \n    except Exception as e:\n        # Return error message\n        return json.dumps([{\"error\": str(e)}])\n\n$$\n\"\"\"\n\nsession.sql(create_sp_sql).collect()\nprint(\"✅ Stored procedure created!\")\n",
   "id": "ce110000-1111-2222-3333-ffffff000007"
  },
  {
   "cell_type": "markdown",
   "id": "ce110000-1111-2222-3333-ffffff000008",
   "metadata": {
    "name": "cell9"
   },
   "source": [
    "## Step 4: Execute Scraping & Load Data\n"
   ]
  },
  {
   "cell_type": "code",
   "execution_count": null,
   "metadata": {
    "name": "cell10",
    "language": "python"
   },
   "outputs": [],
   "source": "print(\"🌐 Calling stored procedure to scrape + parse...\")\nresult = session.sql(\"CALL scrape_luce_line_data()\").collect()\nbeer_json = result[0][0]\n\n# Stored procedure returns a JSON string list of beer objects\nbeer_data = json.loads(beer_json) if isinstance(beer_json, str) else beer_json\n\nprint(f\"\\n📊 Total beers to insert: {len(beer_data)}\")\nfor beer in beer_data[:3]:\n    print(f\"  🍺 {beer['beer_name']} - {beer['style']} ({beer['abv']}% ABV)\")",
   "id": "ce110000-1111-2222-3333-ffffff000009"
  },
  {
   "cell_type": "code",
   "execution_count": null,
   "metadata": {
    "name": "cell11",
    "language": "python"
   },
   "outputs": [],
   "source": "# Import the required function\nfrom snowflake.snowpark.functions import expr\nimport pandas as pd\nfrom datetime import datetime\n\n# Clear existing data\nsession.sql(\"DELETE FROM LUCE_LINE_TAP_LIST\").collect()\nprint(\"🗑️ Cleared existing data\")\n\n# First create DataFrame with the timestamp\ncurrent_time = datetime.utcnow()\n\n# Create records with timestamp first\nrecords = []\nfor beer in beer_data:\n    records.append({\n        'BEER_NAME': beer['beer_name'],\n        'STYLE': beer['style'],\n        'ABV': beer['abv'],\n        'DESCRIPTION': beer['description'],\n        'BREWERY': beer['brewery'],\n        'BREWERY_CITY': beer['brewery_city'],\n        'BREWERY_STATE': beer['brewery_state'],\n        'SCRAPED_AT': current_time,      \n    })\n\n# Create DataFrame from records\nsnowpark_df = session.create_dataframe(records)\n\n# Add description embedding\nsnowpark_df = snowpark_df.with_column(\n    'DESCRIPTION_EMBEDDING',\n    expr(\"SNOWFLAKE.CORTEX.EMBED_TEXT_768('snowflake-arctic-embed-m', STYLE || ' ' || DESCRIPTION)\")\n)\n\n# Write to table\nsnowpark_df.write.mode('append').save_as_table('LUCE_LINE_TAP_LIST')\n\nprint(\"✅ Data loaded successfully into LUCE_LINE_TAP_LIST table with embeddings\")\n",
   "id": "ce110000-1111-2222-3333-ffffff000010"
  },
  {
   "cell_type": "code",
   "id": "cdca3181-a3ec-4cc6-91fb-4032280dece9",
   "metadata": {
    "language": "sql",
    "name": "cell13"
   },
   "outputs": [],
   "source": "select * from LUCE_LINE_TAP_LIST;",
   "execution_count": null
  }
 ]
}